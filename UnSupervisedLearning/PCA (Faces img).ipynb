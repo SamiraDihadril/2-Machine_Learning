{
 "cells": [
  {
   "cell_type": "code",
   "execution_count": 1,
   "metadata": {},
   "outputs": [],
   "source": [
    "import numpy as np\n",
    "import pandas as pd\n",
    "import matplotlib.pyplot as plt\n",
    "import seaborn as sb\n",
    "from scipy.io import loadmat"
   ]
  },
  {
   "cell_type": "code",
   "execution_count": 2,
   "metadata": {},
   "outputs": [],
   "source": [
    "\n",
    "# select random points\n",
    "def init_centroids(X, k):\n",
    "   m, n = X.shape\n",
    "   centroids = np.zeros((k, n))\n",
    "   idx = np.random.randint(0, m, k)  #\n",
    "   \n",
    "   for i in range(k):\n",
    "       centroids[i,:] = X[idx[i],:]\n",
    "   \n",
    "   return centroids\n",
    "\n",
    "\n",
    "# 3centroid function // selection\n",
    "def find_closest_centroids(X, centroids):\n",
    "   m = X.shape[0]\n",
    "   k = centroids.shape[0]\n",
    "   idx = np.zeros(m)\n",
    "   \n",
    "   \n",
    "   for i in range(m):\n",
    "       min_dist = 1000000\n",
    "       for j in range(k):\n",
    "           dist = np.sum((X[i,:] - centroids[j,:]) ** 2)\n",
    "           if dist < min_dist:\n",
    "               min_dist = dist\n",
    "               idx[i] = j\n",
    "   \n",
    "   return idx\n",
    "\n",
    "# centroid maker\n",
    "def compute_centroids(X, idx, k):\n",
    "   m, n = X.shape\n",
    "   centroids = np.zeros((k, n))\n",
    "   \n",
    "   for i in range(k): #k == o /1 /2 \n",
    "       indices = np.where(idx == i)\n",
    "       centroids[i,:] = (np.sum(X[indices,:], axis=1) / len(indices[0])).ravel()\n",
    "   \n",
    "   return centroids\n",
    "\n",
    "# k means function\n",
    "def run_k_means(X, initial_centroids,max_iters):\n",
    "   m, n = X.shape\n",
    "   k = initial_centroids.shape[0]\n",
    "   idx = np.zeros(m)\n",
    "   centroids = initial_centroids\n",
    "   \n",
    "   for i in range(max_iters):\n",
    "       idx = find_closest_centroids(X, centroids) # selection \n",
    "       centroids = compute_centroids(X, idx, k)   \n",
    "   \n",
    "   return idx, centroids\n",
    "\n",
    "\n",
    "\n",
    "\n",
    "def pca(X):\n",
    "   # normalize the features\n",
    "   X = (X - X.mean()) / X.std()\n",
    "   \n",
    "   # compute the covariance matrix\n",
    "   X = np.matrix(X)\n",
    "   cov = (X.T * X) / X.shape[0]\n",
    "#    print('cov \\n', cov)\n",
    "#    print()\n",
    "   # perform SVD\n",
    "   U, S, V = np.linalg.svd(cov) # singular value decomposition\n",
    "   \n",
    "   return U, S, V\n",
    "\n",
    "def project_data(X, U, k):\n",
    "   U_reduced = U[:,:k]\n",
    "   return np.dot(X, U_reduced)\n",
    "\n",
    "\n",
    "\n",
    "def recover_data(Z, U, k):\n",
    "   U_reduced = U[:,:k]\n",
    "   return np.dot(Z, U_reduced.T)\n"
   ]
  },
  {
   "cell_type": "code",
   "execution_count": 4,
   "metadata": {},
   "outputs": [
    {
     "name": "stdout",
     "output_type": "stream",
     "text": [
      "(5000, 1024)\n"
     ]
    },
    {
     "data": {
      "text/plain": [
       "<matplotlib.image.AxesImage at 0x289915e2220>"
      ]
     },
     "execution_count": 4,
     "metadata": {},
     "output_type": "execute_result"
    },
    {
     "data": {
      "image/png": "[encoded data removed]",
      "text/plain": [
       "<Figure size 432x288 with 1 Axes>"
      ]
     },
     "metadata": {
      "needs_background": "light"
     },
     "output_type": "display_data"
    }
   ],
   "source": [
    "# Apply PCA on faces\n",
    "\n",
    "faces = loadmat('C:\\\\Users\\\\Samira Dihadril\\\\2-Machine_Learning\\\\UnSupervisedLearning\\\\ex7faces.mat')\n",
    "X = faces['X']\n",
    "print(X.shape)\n",
    "plt.imshow(X)\n",
    "\n",
    "\n",
    "# show one face\n",
    "face = np.reshape(X[41,:], (32, 32))\n",
    "plt.imshow(face)\n",
    "\n",
    "\n",
    "U, S, V = pca(X)\n",
    "Z = project_data(X, U, 100)\n",
    "\n",
    "X_recovered = recover_data(Z, U, 100)\n",
    "face = np.reshape(X_recovered[41,:], (32, 32))\n",
    "plt.imshow(face)\n",
    " \n",
    "\n"
   ]
  },
  {
   "cell_type": "code",
   "execution_count": null,
   "metadata": {},
   "outputs": [],
   "source": []
  }
 ],
 "metadata": {
  "kernelspec": {
   "display_name": "Python 3",
   "language": "python",
   "name": "python3"
  },
  "language_info": {
   "codemirror_mode": {
    "name": "ipython",
    "version": 3
   },
   "file_extension": ".py",
   "mimetype": "text/x-python",
   "name": "python",
   "nbconvert_exporter": "python",
   "pygments_lexer": "ipython3",
   "version": "3.8.5"
  }
 },
 "nbformat": 4,
 "nbformat_minor": 4
}
